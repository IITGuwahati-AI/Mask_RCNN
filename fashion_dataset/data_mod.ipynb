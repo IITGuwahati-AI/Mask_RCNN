{
 "nbformat": 4,
 "nbformat_minor": 2,
 "metadata": {
  "language_info": {
   "name": "python",
   "codemirror_mode": {
    "name": "ipython",
    "version": 3
   },
   "version": "3.8.1-final"
  },
  "orig_nbformat": 2,
  "file_extension": ".py",
  "mimetype": "text/x-python",
  "name": "python",
  "npconvert_exporter": "python",
  "pygments_lexer": "ipython3",
  "version": 3,
  "kernelspec": {
   "name": "python38164bit572742bb1bbf42e5a62e5027e48fa274",
   "display_name": "Python 3.8.1 64-bit"
  }
 },
 "cells": [
  {
   "cell_type": "code",
   "execution_count": 2,
   "metadata": {},
   "outputs": [],
   "source": [
    "import pandas as pd"
   ]
  },
  {
   "cell_type": "code",
   "execution_count": 3,
   "metadata": {},
   "outputs": [],
   "source": [
    "traincsv = pd.read_csv(\"train.csv\", nrows = 5000)"
   ]
  },
  {
   "cell_type": "code",
   "execution_count": 4,
   "metadata": {},
   "outputs": [
    {
     "output_type": "execute_result",
     "data": {
      "text/plain": "                            ImageId  \\\n0  00000663ed1ff0c4e0132b9b9ac53f6e   \n1  00000663ed1ff0c4e0132b9b9ac53f6e   \n2  00000663ed1ff0c4e0132b9b9ac53f6e   \n3  00000663ed1ff0c4e0132b9b9ac53f6e   \n4  00000663ed1ff0c4e0132b9b9ac53f6e   \n\n                                       EncodedPixels  Height  Width  ClassId  \\\n0  6068157 7 6073371 20 6078584 34 6083797 48 608...    5214   3676        6   \n1  6323163 11 6328356 32 6333549 53 6338742 75 63...    5214   3676        0   \n2  8521389 10 8526585 30 8531789 42 8537002 46 85...    5214   3676       28   \n3  12903854 2 12909064 7 12914275 10 12919485 15 ...    5214   3676       31   \n4  10837337 5 10842542 14 10847746 24 10852951 33...    5214   3676       32   \n\n                     AttributesIds  \n0  115,136,143,154,230,295,316,317  \n1  115,136,142,146,225,295,316,317  \n2                              163  \n3                          160,204  \n4                              219  ",
      "text/html": "<div>\n<style scoped>\n    .dataframe tbody tr th:only-of-type {\n        vertical-align: middle;\n    }\n\n    .dataframe tbody tr th {\n        vertical-align: top;\n    }\n\n    .dataframe thead th {\n        text-align: right;\n    }\n</style>\n<table border=\"1\" class=\"dataframe\">\n  <thead>\n    <tr style=\"text-align: right;\">\n      <th></th>\n      <th>ImageId</th>\n      <th>EncodedPixels</th>\n      <th>Height</th>\n      <th>Width</th>\n      <th>ClassId</th>\n      <th>AttributesIds</th>\n    </tr>\n  </thead>\n  <tbody>\n    <tr>\n      <th>0</th>\n      <td>00000663ed1ff0c4e0132b9b9ac53f6e</td>\n      <td>6068157 7 6073371 20 6078584 34 6083797 48 608...</td>\n      <td>5214</td>\n      <td>3676</td>\n      <td>6</td>\n      <td>115,136,143,154,230,295,316,317</td>\n    </tr>\n    <tr>\n      <th>1</th>\n      <td>00000663ed1ff0c4e0132b9b9ac53f6e</td>\n      <td>6323163 11 6328356 32 6333549 53 6338742 75 63...</td>\n      <td>5214</td>\n      <td>3676</td>\n      <td>0</td>\n      <td>115,136,142,146,225,295,316,317</td>\n    </tr>\n    <tr>\n      <th>2</th>\n      <td>00000663ed1ff0c4e0132b9b9ac53f6e</td>\n      <td>8521389 10 8526585 30 8531789 42 8537002 46 85...</td>\n      <td>5214</td>\n      <td>3676</td>\n      <td>28</td>\n      <td>163</td>\n    </tr>\n    <tr>\n      <th>3</th>\n      <td>00000663ed1ff0c4e0132b9b9ac53f6e</td>\n      <td>12903854 2 12909064 7 12914275 10 12919485 15 ...</td>\n      <td>5214</td>\n      <td>3676</td>\n      <td>31</td>\n      <td>160,204</td>\n    </tr>\n    <tr>\n      <th>4</th>\n      <td>00000663ed1ff0c4e0132b9b9ac53f6e</td>\n      <td>10837337 5 10842542 14 10847746 24 10852951 33...</td>\n      <td>5214</td>\n      <td>3676</td>\n      <td>32</td>\n      <td>219</td>\n    </tr>\n  </tbody>\n</table>\n</div>"
     },
     "metadata": {},
     "execution_count": 4
    }
   ],
   "source": [
    "traincsv.head()"
   ]
  },
  {
   "cell_type": "code",
   "execution_count": 5,
   "metadata": {},
   "outputs": [],
   "source": [
    "image_group = traincsv.groupby('ImageId')"
   ]
  },
  {
   "cell_type": "code",
   "execution_count": 6,
   "metadata": {},
   "outputs": [
    {
     "output_type": "stream",
     "name": "stdout",
     "text": "131\n"
    }
   ],
   "source": [
    "cnt_solid_images=0\n",
    "solid_img_ids = []\n",
    "for i, frame in enumerate(image_group):\n",
    "    k, j = frame\n",
    "    if j['AttributesIds'].isnull().sum()==0:\n",
    "        cnt_solid_images = cnt_solid_images +1\n",
    "        solid_img_ids.append(k)\n",
    "print(cnt_solid_images)"
   ]
  },
  {
   "cell_type": "code",
   "execution_count": 7,
   "metadata": {},
   "outputs": [],
   "source": [
    "solid_train = traincsv.loc[[i for i in range(len(traincsv)) if traincsv['ImageId'][i] in solid_img_ids]]"
   ]
  },
  {
   "cell_type": "code",
   "execution_count": 8,
   "metadata": {},
   "outputs": [
    {
     "output_type": "stream",
     "name": "stdout",
     "text": "ImageId          0\nEncodedPixels    0\nHeight           0\nWidth            0\nClassId          0\nAttributesIds    0\ndtype: int64\n131\n"
    }
   ],
   "source": [
    "print(solid_train.isnull().sum())\n",
    "print(len(solid_train['ImageId'].unique()))"
   ]
  },
  {
   "cell_type": "code",
   "execution_count": 8,
   "metadata": {},
   "outputs": [
    {
     "output_type": "execute_result",
     "data": {
      "text/plain": "'00000663ed1ff0c4e0132b9b9ac53f6e'"
     },
     "metadata": {},
     "execution_count": 8
    }
   ],
   "source": []
  },
  {
   "cell_type": "code",
   "execution_count": 9,
   "metadata": {},
   "outputs": [
    {
     "output_type": "stream",
     "name": "stderr",
     "text": "A subdirectory or file train_small already exists.\n"
    }
   ],
   "source": [
    "!mkdir train_small"
   ]
  },
  {
   "cell_type": "code",
   "execution_count": 10,
   "metadata": {},
   "outputs": [],
   "source": [
    "import random\n",
    "import shutil, os"
   ]
  },
  {
   "cell_type": "code",
   "execution_count": 11,
   "metadata": {},
   "outputs": [],
   "source": [
    "small_imgs = random.sample(solid_img_ids, 20)"
   ]
  },
  {
   "cell_type": "code",
   "execution_count": 12,
   "metadata": {},
   "outputs": [
    {
     "output_type": "stream",
     "name": "stdout",
     "text": "train\\00000663ed1ff0c4e0132b9b9ac53f6e.jpg\ntrain\\023e8861e292dd375bdbbabb86d7ae55.jpg\ntrain\\01cc61e8264afb21a6366979e24bf977.jpg\ntrain\\02cc3d7cf83d7a6d39b73a73ec4214b5.jpg\ntrain\\01dd3209605ded26e55360e9d11974cf.jpg\ntrain\\00102686c01fa625aba3b2478f48f415.jpg\ntrain\\0055347a114b215f8f469fec9e38c272.jpg\ntrain\\01e562c8cd134e364104eb17bc18995a.jpg\ntrain\\01ec1705a5dad92febd7a336c4bb9dda.jpg\ntrain\\03b64eaf8e26539d531ee9eb76fd4e4b.jpg\ntrain\\0228e48a68f7e781031853d08449ca22.jpg\ntrain\\0017af9f7fa8ce9e7558bb924cec324e.jpg\ntrain\\010f48755074bf05eb0247c9faf414ae.jpg\ntrain\\01a9b41491629715b18739515f56e776.jpg\ntrain\\000aac3870ea7c59ca0333ffa5327323.jpg\ntrain\\03b2d8d1968f300e5c4038a5e200dba3.jpg\ntrain\\00bfc94340e552180ce0efb8a2024eff.jpg\ntrain\\00c81ae8b1f5e3b5d051d8ec12aa023c.jpg\ntrain\\01e7dc6b2c1038c86b291513a5b47c48.jpg\ntrain\\00b9a7729c9934f76ff67c54b5ad94f3.jpg\n"
    }
   ],
   "source": [
    "for i in small_imgs:\n",
    "    c = os.path.join(\"train\", i+\".jpg\")\n",
    "    shutil.copy(c, 'train_small')\n",
    "    print(c)"
   ]
  },
  {
   "cell_type": "code",
   "execution_count": 13,
   "metadata": {},
   "outputs": [],
   "source": [
    "import os\n",
    "import os.path"
   ]
  },
  {
   "cell_type": "code",
   "execution_count": 14,
   "metadata": {},
   "outputs": [],
   "source": [
    "img_list = os.listdir(\"train\")"
   ]
  },
  {
   "cell_type": "code",
   "execution_count": 15,
   "metadata": {},
   "outputs": [
    {
     "output_type": "execute_result",
     "data": {
      "text/plain": "True"
     },
     "metadata": {},
     "execution_count": 15
    }
   ],
   "source": [
    "\"02141f4fea224fd6f4f4c60e1c40c8ab.jpg\" in img_list"
   ]
  },
  {
   "cell_type": "code",
   "execution_count": 16,
   "metadata": {},
   "outputs": [
    {
     "output_type": "execute_result",
     "data": {
      "text/plain": "True"
     },
     "metadata": {},
     "execution_count": 16
    }
   ],
   "source": [
    "os.path.exists(r\"train\\01cf8aec5e3523f5aa1fe0b53dcc34b2.jpg\")"
   ]
  },
  {
   "cell_type": "code",
   "execution_count": 17,
   "metadata": {},
   "outputs": [],
   "source": [
    "small_df = traincsv.loc[[i for i in range(len(traincsv)) if traincsv['ImageId'][i] in small_imgs]]"
   ]
  },
  {
   "cell_type": "code",
   "execution_count": 18,
   "metadata": {},
   "outputs": [
    {
     "output_type": "execute_result",
     "data": {
      "text/plain": "                            ImageId  \\\n0  00000663ed1ff0c4e0132b9b9ac53f6e   \n1  00000663ed1ff0c4e0132b9b9ac53f6e   \n2  00000663ed1ff0c4e0132b9b9ac53f6e   \n3  00000663ed1ff0c4e0132b9b9ac53f6e   \n4  00000663ed1ff0c4e0132b9b9ac53f6e   \n\n                                       EncodedPixels  Height  Width  ClassId  \\\n0  6068157 7 6073371 20 6078584 34 6083797 48 608...    5214   3676        6   \n1  6323163 11 6328356 32 6333549 53 6338742 75 63...    5214   3676        0   \n2  8521389 10 8526585 30 8531789 42 8537002 46 85...    5214   3676       28   \n3  12903854 2 12909064 7 12914275 10 12919485 15 ...    5214   3676       31   \n4  10837337 5 10842542 14 10847746 24 10852951 33...    5214   3676       32   \n\n                     AttributesIds  \n0  115,136,143,154,230,295,316,317  \n1  115,136,142,146,225,295,316,317  \n2                              163  \n3                          160,204  \n4                              219  ",
      "text/html": "<div>\n<style scoped>\n    .dataframe tbody tr th:only-of-type {\n        vertical-align: middle;\n    }\n\n    .dataframe tbody tr th {\n        vertical-align: top;\n    }\n\n    .dataframe thead th {\n        text-align: right;\n    }\n</style>\n<table border=\"1\" class=\"dataframe\">\n  <thead>\n    <tr style=\"text-align: right;\">\n      <th></th>\n      <th>ImageId</th>\n      <th>EncodedPixels</th>\n      <th>Height</th>\n      <th>Width</th>\n      <th>ClassId</th>\n      <th>AttributesIds</th>\n    </tr>\n  </thead>\n  <tbody>\n    <tr>\n      <th>0</th>\n      <td>00000663ed1ff0c4e0132b9b9ac53f6e</td>\n      <td>6068157 7 6073371 20 6078584 34 6083797 48 608...</td>\n      <td>5214</td>\n      <td>3676</td>\n      <td>6</td>\n      <td>115,136,143,154,230,295,316,317</td>\n    </tr>\n    <tr>\n      <th>1</th>\n      <td>00000663ed1ff0c4e0132b9b9ac53f6e</td>\n      <td>6323163 11 6328356 32 6333549 53 6338742 75 63...</td>\n      <td>5214</td>\n      <td>3676</td>\n      <td>0</td>\n      <td>115,136,142,146,225,295,316,317</td>\n    </tr>\n    <tr>\n      <th>2</th>\n      <td>00000663ed1ff0c4e0132b9b9ac53f6e</td>\n      <td>8521389 10 8526585 30 8531789 42 8537002 46 85...</td>\n      <td>5214</td>\n      <td>3676</td>\n      <td>28</td>\n      <td>163</td>\n    </tr>\n    <tr>\n      <th>3</th>\n      <td>00000663ed1ff0c4e0132b9b9ac53f6e</td>\n      <td>12903854 2 12909064 7 12914275 10 12919485 15 ...</td>\n      <td>5214</td>\n      <td>3676</td>\n      <td>31</td>\n      <td>160,204</td>\n    </tr>\n    <tr>\n      <th>4</th>\n      <td>00000663ed1ff0c4e0132b9b9ac53f6e</td>\n      <td>10837337 5 10842542 14 10847746 24 10852951 33...</td>\n      <td>5214</td>\n      <td>3676</td>\n      <td>32</td>\n      <td>219</td>\n    </tr>\n  </tbody>\n</table>\n</div>"
     },
     "metadata": {},
     "execution_count": 18
    }
   ],
   "source": [
    "small_df.head()"
   ]
  },
  {
   "cell_type": "code",
   "execution_count": 19,
   "metadata": {},
   "outputs": [
    {
     "output_type": "stream",
     "name": "stdout",
     "text": "['00000663ed1ff0c4e0132b9b9ac53f6e' '000aac3870ea7c59ca0333ffa5327323'\n '00102686c01fa625aba3b2478f48f415' '0017af9f7fa8ce9e7558bb924cec324e'\n '0055347a114b215f8f469fec9e38c272' '00b9a7729c9934f76ff67c54b5ad94f3'\n '00bfc94340e552180ce0efb8a2024eff' '00c81ae8b1f5e3b5d051d8ec12aa023c'\n '010f48755074bf05eb0247c9faf414ae' '01a9b41491629715b18739515f56e776'\n '01cc61e8264afb21a6366979e24bf977' '01dd3209605ded26e55360e9d11974cf'\n '01e562c8cd134e364104eb17bc18995a' '01e7dc6b2c1038c86b291513a5b47c48'\n '01ec1705a5dad92febd7a336c4bb9dda' '0228e48a68f7e781031853d08449ca22'\n '023e8861e292dd375bdbbabb86d7ae55' '02cc3d7cf83d7a6d39b73a73ec4214b5'\n '03b2d8d1968f300e5c4038a5e200dba3' '03b64eaf8e26539d531ee9eb76fd4e4b']\n['00000663ed1ff0c4e0132b9b9ac53f6e', '023e8861e292dd375bdbbabb86d7ae55', '01cc61e8264afb21a6366979e24bf977', '02cc3d7cf83d7a6d39b73a73ec4214b5', '01dd3209605ded26e55360e9d11974cf', '00102686c01fa625aba3b2478f48f415', '0055347a114b215f8f469fec9e38c272', '01e562c8cd134e364104eb17bc18995a', '01ec1705a5dad92febd7a336c4bb9dda', '03b64eaf8e26539d531ee9eb76fd4e4b', '0228e48a68f7e781031853d08449ca22', '0017af9f7fa8ce9e7558bb924cec324e', '010f48755074bf05eb0247c9faf414ae', '01a9b41491629715b18739515f56e776', '000aac3870ea7c59ca0333ffa5327323', '03b2d8d1968f300e5c4038a5e200dba3', '00bfc94340e552180ce0efb8a2024eff', '00c81ae8b1f5e3b5d051d8ec12aa023c', '01e7dc6b2c1038c86b291513a5b47c48', '00b9a7729c9934f76ff67c54b5ad94f3']\n"
    },
    {
     "output_type": "execute_result",
     "data": {
      "text/plain": "True"
     },
     "metadata": {},
     "execution_count": 19
    }
   ],
   "source": [
    "print(small_df['ImageId'].unique())\n",
    "print(small_imgs)\n",
    "sorted(list(small_df['ImageId'].unique()))==sorted(small_imgs)"
   ]
  },
  {
   "cell_type": "code",
   "execution_count": 20,
   "metadata": {},
   "outputs": [],
   "source": [
    "small_df.to_csv('train_small.csv', index= False, header = True)"
   ]
  },
  {
   "cell_type": "code",
   "execution_count": 21,
   "metadata": {},
   "outputs": [
    {
     "output_type": "stream",
     "name": "stdout",
     "text": "5000\n"
    }
   ],
   "source": [
    "print(len(traincsv))"
   ]
  },
  {
   "cell_type": "code",
   "execution_count": 22,
   "metadata": {},
   "outputs": [
    {
     "output_type": "execute_result",
     "data": {
      "text/plain": "                            ImageId  \\\n0  00000663ed1ff0c4e0132b9b9ac53f6e   \n1  00000663ed1ff0c4e0132b9b9ac53f6e   \n2  00000663ed1ff0c4e0132b9b9ac53f6e   \n3  00000663ed1ff0c4e0132b9b9ac53f6e   \n4  00000663ed1ff0c4e0132b9b9ac53f6e   \n\n                                       EncodedPixels  Height  Width  ClassId  \\\n0  6068157 7 6073371 20 6078584 34 6083797 48 608...    5214   3676        6   \n1  6323163 11 6328356 32 6333549 53 6338742 75 63...    5214   3676        0   \n2  8521389 10 8526585 30 8531789 42 8537002 46 85...    5214   3676       28   \n3  12903854 2 12909064 7 12914275 10 12919485 15 ...    5214   3676       31   \n4  10837337 5 10842542 14 10847746 24 10852951 33...    5214   3676       32   \n\n                     AttributesIds  \n0  115,136,143,154,230,295,316,317  \n1  115,136,142,146,225,295,316,317  \n2                              163  \n3                          160,204  \n4                              219  ",
      "text/html": "<div>\n<style scoped>\n    .dataframe tbody tr th:only-of-type {\n        vertical-align: middle;\n    }\n\n    .dataframe tbody tr th {\n        vertical-align: top;\n    }\n\n    .dataframe thead th {\n        text-align: right;\n    }\n</style>\n<table border=\"1\" class=\"dataframe\">\n  <thead>\n    <tr style=\"text-align: right;\">\n      <th></th>\n      <th>ImageId</th>\n      <th>EncodedPixels</th>\n      <th>Height</th>\n      <th>Width</th>\n      <th>ClassId</th>\n      <th>AttributesIds</th>\n    </tr>\n  </thead>\n  <tbody>\n    <tr>\n      <th>0</th>\n      <td>00000663ed1ff0c4e0132b9b9ac53f6e</td>\n      <td>6068157 7 6073371 20 6078584 34 6083797 48 608...</td>\n      <td>5214</td>\n      <td>3676</td>\n      <td>6</td>\n      <td>115,136,143,154,230,295,316,317</td>\n    </tr>\n    <tr>\n      <th>1</th>\n      <td>00000663ed1ff0c4e0132b9b9ac53f6e</td>\n      <td>6323163 11 6328356 32 6333549 53 6338742 75 63...</td>\n      <td>5214</td>\n      <td>3676</td>\n      <td>0</td>\n      <td>115,136,142,146,225,295,316,317</td>\n    </tr>\n    <tr>\n      <th>2</th>\n      <td>00000663ed1ff0c4e0132b9b9ac53f6e</td>\n      <td>8521389 10 8526585 30 8531789 42 8537002 46 85...</td>\n      <td>5214</td>\n      <td>3676</td>\n      <td>28</td>\n      <td>163</td>\n    </tr>\n    <tr>\n      <th>3</th>\n      <td>00000663ed1ff0c4e0132b9b9ac53f6e</td>\n      <td>12903854 2 12909064 7 12914275 10 12919485 15 ...</td>\n      <td>5214</td>\n      <td>3676</td>\n      <td>31</td>\n      <td>160,204</td>\n    </tr>\n    <tr>\n      <th>4</th>\n      <td>00000663ed1ff0c4e0132b9b9ac53f6e</td>\n      <td>10837337 5 10842542 14 10847746 24 10852951 33...</td>\n      <td>5214</td>\n      <td>3676</td>\n      <td>32</td>\n      <td>219</td>\n    </tr>\n  </tbody>\n</table>\n</div>"
     },
     "metadata": {},
     "execution_count": 22
    }
   ],
   "source": [
    "traincsv.head()"
   ]
  },
  {
   "cell_type": "code",
   "execution_count": null,
   "metadata": {},
   "outputs": [],
   "source": []
  }
 ]
}